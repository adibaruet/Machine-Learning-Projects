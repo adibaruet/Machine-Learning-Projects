{
  "cells": [
    {
      "cell_type": "markdown",
      "metadata": {
        "colab_type": "text",
        "id": "VzPujIJZk-st"
      },
      "source": [
        "Load Python, TensorFlow and Keras libraries."
      ]
    },
    {
      "cell_type": "code",
      "execution_count": 0,
      "metadata": {
        "colab": {},
        "colab_type": "code",
        "id": "ISoa7WM2k5xH"
      },
      "outputs": [],
      "source": [
        "import tensorflow as tf\n",
        "from tensorflow import keras\n",
        "import numpy as np\n",
        "import matplotlib.pyplot as plt\n",
        "from keras.preprocessing.image import load_img\n",
        "import cv2\n",
        "import glob\n",
        "import os\n",
        "from sklearn.model_selection import train_test_split\n",
        "from tensorflow.keras.preprocessing.image import ImageDataGenerator"
      ]
    },
    {
      "cell_type": "code",
      "execution_count": 0,
      "metadata": {
        "colab": {},
        "colab_type": "code",
        "id": "k2e6BH8xpgc7"
      },
      "outputs": [],
      "source": [
        "from tensorflow.keras.applications import VGG16\n",
        "from tensorflow.keras.layers import Input\n",
        "from tensorflow.keras.layers import AveragePooling2D\n",
        "from tensorflow.keras.layers import Flatten\n",
        "from tensorflow.keras.layers import Dense\n",
        "from tensorflow.keras.layers import Dropout\n",
        "from tensorflow.keras.models import Model\n",
        "from tensorflow.keras.layers import GlobalAveragePooling2D\n",
        "from tensorflow.keras.models import load_model"
      ]
    },
    {
      "cell_type": "markdown",
      "metadata": {
        "colab_type": "text",
        "id": "view-in-github"
      },
      "source": [
        "<a href=\"https://colab.research.google.com/github/sudhir2016/Google-Colab-11/blob/master/Tomato_plant_disease_detector.ipynb\" target=\"_parent\"><img src=\"https://colab.research.google.com/assets/colab-badge.svg\" alt=\"Open In Colab\"/></a>"
      ]
    },
    {
      "cell_type": "markdown",
      "metadata": {
        "colab_type": "text",
        "id": "amLV15n3BQMU"
      },
      "source": [
        "Load Plant Village Dataset."
      ]
    },
    {
      "cell_type": "code",
      "execution_count": 0,
      "metadata": {
        "colab": {},
        "colab_type": "code",
        "id": "n5oU-GwutoBA"
      },
      "outputs": [],
      "source": [
        "!git clone https://github.com/spMohanty/PlantVillage-Dataset"
      ]
    },
    {
      "cell_type": "markdown",
      "metadata": {
        "colab_type": "text",
        "id": "SHeYwxEbnz_S"
      },
      "source": [
        "Create empty lists for tomato leaf images (X) and labels(Y) for testing."
      ]
    },
    {
      "cell_type": "code",
      "execution_count": 0,
      "metadata": {
        "colab": {},
        "colab_type": "code",
        "id": "aCjU-gHS973W"
      },
      "outputs": [],
      "source": [
        "X=[]\n",
        "Y=[]"
      ]
    },
    {
      "cell_type": "markdown",
      "metadata": {
        "colab_type": "text",
        "id": "Ad8L_OicGoBh"
      },
      "source": [
        "Create and sort list of label names."
      ]
    },
    {
      "cell_type": "code",
      "execution_count": 0,
      "metadata": {
        "colab": {},
        "colab_type": "code",
        "id": "gORpYVNTSMqd"
      },
      "outputs": [],
      "source": [
        "label=[]"
      ]
    },
    {
      "cell_type": "code",
      "execution_count": 0,
      "metadata": {
        "colab": {},
        "colab_type": "code",
        "id": "PTfdZ9IQUiSd"
      },
      "outputs": [],
      "source": [
        "for i in range (10):\n",
        "  label.append(1)"
      ]
    },
    {
      "cell_type": "code",
      "execution_count": 0,
      "metadata": {
        "colab": {},
        "colab_type": "code",
        "id": "bYGfgAJNOe76"
      },
      "outputs": [],
      "source": [
        "label[0]='Tomato___healthy'\n",
        "label[1]='Tomato___Tomato_mosaic_virus'\n",
        "label[2]='Tomato___Tomato_Yellow_Leaf_Curl_Virus'\n",
        "label[3]='Tomato___Target_Spot'\n",
        "label[4]='Tomato___Spider_mites Two-spotted_spider_mite'\n",
        "label[5]='Tomato___Septoria_leaf_spot'\n",
        "label[6]='Tomato___Leaf_Mold'\n",
        "label[7]='Tomato___Late_blight'\n",
        "label[8]='Tomato___Early_blight'\n",
        "label[9]='Tomato___Bacterial_spot'"
      ]
    },
    {
      "cell_type": "code",
      "execution_count": 0,
      "metadata": {
        "colab": {},
        "colab_type": "code",
        "id": "YZcukgEmK4UA"
      },
      "outputs": [],
      "source": [
        "label.sort()"
      ]
    },
    {
      "cell_type": "code",
      "execution_count": 0,
      "metadata": {
        "colab": {},
        "colab_type": "code",
        "id": "5FvZn0nhbevG"
      },
      "outputs": [],
      "source": [
        "print(label)"
      ]
    },
    {
      "cell_type": "markdown",
      "metadata": {
        "colab_type": "text",
        "id": "Nist7L4AHXMe"
      },
      "source": [
        "Path for Tomato dataset."
      ]
    },
    {
      "cell_type": "code",
      "execution_count": 0,
      "metadata": {
        "colab": {},
        "colab_type": "code",
        "id": "jSnUXZDrG8cH"
      },
      "outputs": [],
      "source": [
        "a='/content/PlantVillage-Dataset/raw/color/Tomato'\n",
        "c='*.*'"
      ]
    },
    {
      "cell_type": "markdown",
      "metadata": {
        "colab_type": "text",
        "id": "HN1wd16IIDTC"
      },
      "source": [
        "Load and preprocess small set of 50 images, 5 of each category for test dataset."
      ]
    },
    {
      "cell_type": "code",
      "execution_count": 0,
      "metadata": {
        "colab": {},
        "colab_type": "code",
        "id": "iW9tWaQM2BiF"
      },
      "outputs": [],
      "source": [
        "for i in range (10):\n",
        "  b=label[i]\n",
        "  path=os.path.join(a,b,c)\n",
        "  image1= [cv2.imread(file) for file in glob.glob(path)]\n",
        "  for j in range (5):\n",
        "    image2 = cv2.resize(image1[j], dsize=(224, 224), interpolation=cv2.INTER_CUBIC)\n",
        "    X.append(image2)\n",
        "    out=i\n",
        "    Y.append(out)"
      ]
    },
    {
      "cell_type": "code",
      "execution_count": 0,
      "metadata": {
        "colab": {},
        "colab_type": "code",
        "id": "H6ne1viz5HDY"
      },
      "outputs": [],
      "source": [
        "len(X)"
      ]
    },
    {
      "cell_type": "code",
      "execution_count": 0,
      "metadata": {
        "colab": {},
        "colab_type": "code",
        "id": "7rt-W8Es5LQg"
      },
      "outputs": [],
      "source": [
        "X=np.array(X)/255.0"
      ]
    },
    {
      "cell_type": "code",
      "execution_count": 0,
      "metadata": {
        "colab": {},
        "colab_type": "code",
        "id": "b8s_j1Ju5QOV"
      },
      "outputs": [],
      "source": [
        "Y=np.array(Y)"
      ]
    },
    {
      "cell_type": "markdown",
      "metadata": {
        "colab_type": "text",
        "id": "MfwEMS5nIYXy"
      },
      "source": [
        "Set up dataset generator as flow from directory."
      ]
    },
    {
      "cell_type": "code",
      "execution_count": 0,
      "metadata": {
        "colab": {},
        "colab_type": "code",
        "id": "dL0gezncb3jA"
      },
      "outputs": [],
      "source": [
        "train_datagen=ImageDataGenerator(rescale=1./255)"
      ]
    },
    {
      "cell_type": "code",
      "execution_count": 0,
      "metadata": {
        "colab": {},
        "colab_type": "code",
        "id": "e9RUfSx8e-Kn"
      },
      "outputs": [],
      "source": [
        "train_generator=train_datagen.flow_from_directory('/content/PlantVillage-Dataset/raw/color/Tomato',target_size=(224, 224),\n",
        "        batch_size=32,\n",
        "        class_mode='sparse')"
      ]
    },
    {
      "cell_type": "code",
      "execution_count": 0,
      "metadata": {
        "colab": {},
        "colab_type": "code",
        "id": "nuJPx5VazRL4"
      },
      "outputs": [],
      "source": [
        "print(train_generator.class_indices)"
      ]
    },
    {
      "cell_type": "markdown",
      "metadata": {
        "colab_type": "text",
        "id": "u_dJDBKf7RP0"
      },
      "source": [
        "Build the model"
      ]
    },
    {
      "cell_type": "code",
      "execution_count": 0,
      "metadata": {
        "colab": {},
        "colab_type": "code",
        "id": "cGOvCEEhohNb"
      },
      "outputs": [],
      "source": [
        "baseModel = VGG16(weights=\"imagenet\", include_top=False,input_shape=(224,224,3))\n",
        "\t"
      ]
    },
    {
      "cell_type": "code",
      "execution_count": 0,
      "metadata": {
        "colab": {},
        "colab_type": "code",
        "id": "QC1tPMd_ous9"
      },
      "outputs": [],
      "source": [
        "for layer in baseModel.layers:\n",
        "\tlayer.trainable = False"
      ]
    },
    {
      "cell_type": "code",
      "execution_count": 0,
      "metadata": {
        "colab": {},
        "colab_type": "code",
        "id": "yuYYBFBzo6r9"
      },
      "outputs": [],
      "source": [
        "headModel = baseModel.output\n",
        "headModel = GlobalAveragePooling2D() (headModel)\n",
        "headModel = Dense(64, activation=\"relu\")(headModel)\n",
        "headModel = Dense(10, activation=\"softmax\")(headModel)"
      ]
    },
    {
      "cell_type": "code",
      "execution_count": 0,
      "metadata": {
        "colab": {},
        "colab_type": "code",
        "id": "-BM_UX-UpDfX"
      },
      "outputs": [],
      "source": [
        "model = Model(inputs=baseModel.input, outputs=headModel)"
      ]
    },
    {
      "cell_type": "markdown",
      "metadata": {
        "colab_type": "text",
        "id": "og_KyfW47mzM"
      },
      "source": [
        "Compile the model\n"
      ]
    },
    {
      "cell_type": "code",
      "execution_count": 0,
      "metadata": {
        "colab": {},
        "colab_type": "code",
        "id": "kMjQFtK4Ke8s"
      },
      "outputs": [],
      "source": [
        "model.compile(optimizer='adam',loss='sparse_categorical_crossentropy',metrics=['accuracy'])"
      ]
    },
    {
      "cell_type": "code",
      "execution_count": 0,
      "metadata": {
        "colab": {},
        "colab_type": "code",
        "id": "8JWa4lJASfFK"
      },
      "outputs": [],
      "source": [
        "model.summary()"
      ]
    },
    {
      "cell_type": "markdown",
      "metadata": {
        "colab_type": "text",
        "id": "plcv-_k47xXI"
      },
      "source": [
        "Train the model"
      ]
    },
    {
      "cell_type": "code",
      "execution_count": 0,
      "metadata": {
        "colab": {},
        "colab_type": "code",
        "id": "bo7BPwrPhWrG"
      },
      "outputs": [],
      "source": [
        "model.fit(train_generator,\n",
        "        steps_per_epoch=500,\n",
        "        epochs=10)"
      ]
    },
    {
      "cell_type": "code",
      "execution_count": 0,
      "metadata": {
        "colab": {},
        "colab_type": "code",
        "id": "NFpzh-MC6qUI"
      },
      "outputs": [],
      "source": [
        "#model.save('model.h5')"
      ]
    },
    {
      "cell_type": "code",
      "execution_count": 0,
      "metadata": {
        "colab": {},
        "colab_type": "code",
        "id": "38I9YOWu8vHL"
      },
      "outputs": [],
      "source": [
        "#model=load_model('model.h5')"
      ]
    },
    {
      "cell_type": "markdown",
      "metadata": {
        "colab_type": "text",
        "id": "IWNcH8ub7591"
      },
      "source": [
        "Evaluate the model"
      ]
    },
    {
      "cell_type": "code",
      "execution_count": 0,
      "metadata": {
        "colab": {},
        "colab_type": "code",
        "id": "BwceFgG28XhI"
      },
      "outputs": [],
      "source": [
        "model.evaluate(X,Y)"
      ]
    },
    {
      "cell_type": "markdown",
      "metadata": {
        "colab_type": "text",
        "id": "EQChm_M48Daq"
      },
      "source": [
        "Make predictions"
      ]
    },
    {
      "cell_type": "code",
      "execution_count": 0,
      "metadata": {
        "colab": {},
        "colab_type": "code",
        "id": "ra0qLga0VwmW"
      },
      "outputs": [],
      "source": [
        "p=model.predict(X)"
      ]
    },
    {
      "cell_type": "markdown",
      "metadata": {
        "colab_type": "text",
        "id": "Aw-u4kVS8LMd"
      },
      "source": [
        "Verify prediction"
      ]
    },
    {
      "cell_type": "markdown",
      "metadata": {
        "colab_type": "text",
        "id": "miZFA1vCvMyK"
      },
      "source": [
        "Make a selection"
      ]
    },
    {
      "cell_type": "code",
      "execution_count": 0,
      "metadata": {
        "colab": {},
        "colab_type": "code",
        "id": "jRsWWLxKvAM1"
      },
      "outputs": [],
      "source": [
        "s=13"
      ]
    },
    {
      "cell_type": "code",
      "execution_count": 0,
      "metadata": {
        "colab": {},
        "colab_type": "code",
        "id": "fv5SfVRjV8MQ"
      },
      "outputs": [],
      "source": [
        "pred=p[s]\n",
        "print(pred)"
      ]
    },
    {
      "cell_type": "code",
      "execution_count": 0,
      "metadata": {
        "colab": {},
        "colab_type": "code",
        "id": "amKY8iNmkvfi"
      },
      "outputs": [],
      "source": [
        "m1=np.argmax(pred)\n",
        "l1=label[m1]\n",
        "print('prediction :',l1)"
      ]
    },
    {
      "cell_type": "code",
      "execution_count": 0,
      "metadata": {
        "colab": {},
        "colab_type": "code",
        "id": "u_m7ddQfubZB"
      },
      "outputs": [],
      "source": [
        "m2=Y[s]\n",
        "l2=label[m2]\n",
        "print('actual :',l2)"
      ]
    },
    {
      "cell_type": "code",
      "execution_count": 0,
      "metadata": {
        "colab": {},
        "colab_type": "code",
        "id": "IkFoWe-LXkzg"
      },
      "outputs": [],
      "source": [
        "plt.imshow(X[s])"
      ]
    }
  ],
  "metadata": {
    "accelerator": "GPU",
    "colab": {
      "collapsed_sections": [],
      "include_colab_link": true,
      "machine_shape": "hm",
      "name": "Tomato_plant_disease_detector.ipynb",
      "provenance": []
    },
    "kernelspec": {
      "display_name": "Python 3",
      "name": "python3"
    }
  },
  "nbformat": 4,
  "nbformat_minor": 0
}
